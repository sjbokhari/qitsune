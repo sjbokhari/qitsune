{
 "cells": [
  {
   "cell_type": "markdown",
   "metadata": {},
   "source": [
    "PyPortfolioOpt is a library that implements portfolio optimization methods, including\n",
    "classical mean-variance optimization techniques and Black-Litterman allocation, as well as more\n",
    "recent developments in the field like shrinkage and Hierarchical Risk Parity.\n",
    "\n",
    "It is **extensive** yet easily **extensible**, and can be useful for either a casual investors, or a professional looking for an easy prototyping tool. Whether you are a fundamentals-oriented investor who has identified a\n",
    "handful of undervalued picks, or an algorithmic trader who has a basket of\n",
    "strategies, PyPortfolioOpt can help you combine your alpha sources\n",
    "in a risk-efficient way.\n",
    "\n",
    "**PyPortfolioOpt has been [published](https://joss.theoj.org/papers/10.21105/joss.03066) in the Journal of Open Source Software 🎉**\n",
    "\n",
    "PyPortfolioOpt is now being maintained by [Tuan Tran](https://github.com/88d52bdba0366127fffca9dfa93895).\n",
    "\n",
    "Head over to the **[documentation on ReadTheDocs](https://pyportfolioopt.readthedocs.io/en/latest/)** to get an in-depth look at the project, or check out the [cookbook](https://github.com/robertmartin8/PyPortfolioOpt/tree/master/cookbook) to see some examples showing the full process from downloading data to building a portfolio.\n",
    "\n",
    "<center>\n",
    "<img src=\"https://github.com/robertmartin8/PyPortfolioOpt/blob/master/media/conceptual_flowchart_v2.png?raw=true\" style=\"width:70%;\"/>\n",
    "</center>"
   ]
  },
  {
   "cell_type": "code",
   "execution_count": 1,
   "metadata": {},
   "outputs": [
    {
     "name": "stdout",
     "output_type": "stream",
     "text": [
      "Expected annual return: 30.5%\n",
      "Annual volatility: 22.2%\n",
      "Sharpe Ratio: 1.28\n"
     ]
    },
    {
     "data": {
      "text/plain": [
       "(0.30477686728199166, 0.2216556692240296, 1.2847714127003214)"
      ]
     },
     "execution_count": 1,
     "metadata": {},
     "output_type": "execute_result"
    }
   ],
   "source": [
    "import pandas as pd\n",
    "from pypfopt.efficient_frontier import EfficientFrontier\n",
    "from pypfopt import risk_models\n",
    "from pypfopt import expected_returns\n",
    "\n",
    "# Read in price data\n",
    "df = pd.read_csv(\"stock_prices.csv\", parse_dates=True, index_col=\"date\")\n",
    "\n",
    "# Calculate expected returns and sample covariance\n",
    "mu = expected_returns.mean_historical_return(df)\n",
    "S = risk_models.sample_cov(df)\n",
    "\n",
    "# Optimize for maximal Sharpe ratio\n",
    "ef = EfficientFrontier(mu, S)\n",
    "weights = ef.max_sharpe()\n",
    "ef.portfolio_performance(verbose=True)"
   ]
  },
  {
   "cell_type": "code",
   "execution_count": 4,
   "metadata": {},
   "outputs": [
    {
     "name": "stderr",
     "output_type": "stream",
     "text": [
      "[*********************100%***********************]  10 of 10 completed"
     ]
    },
    {
     "name": "stdout",
     "output_type": "stream",
     "text": [
      "Expected annual return: 56.1%\n",
      "Annual volatility: 4.0%\n",
      "Sharpe Ratio: 13.54\n"
     ]
    },
    {
     "name": "stderr",
     "output_type": "stream",
     "text": [
      "\n"
     ]
    },
    {
     "data": {
      "text/plain": [
       "(0.5606419210480541, 0.03991713456904051, 13.544106481715566)"
      ]
     },
     "execution_count": 4,
     "metadata": {},
     "output_type": "execute_result"
    }
   ],
   "source": [
    "import numpy as np\n",
    "import pandas as pd\n",
    "import matplotlib.pyplot as plt\n",
    "import yfinance as yf\n",
    "from scipy.optimize import minimize\n",
    "from pypfopt import EfficientFrontier, risk_models, expected_returns\n",
    "import cvxpy as cp\n",
    "import random\n",
    "\n",
    "tickers = ['AAPL', 'MSFT', 'GOOGL', 'GLMD', 'AMZN', 'NFLX', 'TSLA', 'NVDA', 'BABA', 'JPM']\n",
    "data = yf.download(tickers, start='2020-01-01', end='2023-01-01')['Adj Close']\n",
    "\n",
    "# 2. Calculate expected returns and covariance matrix\n",
    "returns = data.pct_change().dropna()\n",
    "\n",
    "# Update tickers to match the remaining assets after dropna()\n",
    "tickers = returns.columns\n",
    "mean_returns = returns.mean()\n",
    "cov_matrix = returns.cov()\n",
    "\n",
    "# Symmetrize the covariance matrix to ensure it's valid\n",
    "cov_matrix = (cov_matrix + cov_matrix.T) / 2\n",
    "\n",
    "num_assets = len(tickers)\n",
    "\n",
    "\n",
    "\n",
    "# Constraint: sum of weights = 1\n",
    "constraints = {'type': 'eq', 'fun': lambda x: np.sum(x) - 1}\n",
    "\n",
    "# Bounds: No short selling (weights >= 0)x\n",
    "bounds = tuple((0, 1) for asset in range(num_assets))\n",
    "\n",
    "# Optimization\n",
    "\n",
    "\n",
    "\n",
    "# 5. Minimum Variance Portfolio (Efficient Frontier)\n",
    "S = risk_models.sample_cov(returns)\n",
    "mu = expected_returns.mean_historical_return(data)\n",
    "ef = EfficientFrontier(mu, cov_matrix)\n",
    "\n",
    "weights = ef.max_sharpe()\n",
    "ef.portfolio_performance(verbose=True)"
   ]
  },
  {
   "cell_type": "code",
   "execution_count": null,
   "metadata": {},
   "outputs": [],
   "source": []
  }
 ],
 "metadata": {
  "kernelspec": {
   "display_name": "qitsune",
   "language": "python",
   "name": "python3"
  },
  "language_info": {
   "codemirror_mode": {
    "name": "ipython",
    "version": 3
   },
   "file_extension": ".py",
   "mimetype": "text/x-python",
   "name": "python",
   "nbconvert_exporter": "python",
   "pygments_lexer": "ipython3",
   "version": "3.12.4"
  }
 },
 "nbformat": 4,
 "nbformat_minor": 2
}
